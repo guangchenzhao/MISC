{
  "nbformat": 4,
  "nbformat_minor": 0,
  "metadata": {
    "colab": {
      "provenance": [],
      "machine_shape": "hm"
    },
    "kernelspec": {
      "name": "python3",
      "display_name": "Python 3"
    },
    "accelerator": "GPU"
  },
  "cells": [
    {
      "cell_type": "code",
      "metadata": {
        "id": "mgTR67PEQhn6"
      },
      "source": [
        "import torch\n",
        "import torchvision\n",
        "\n",
        "import torch.utils.tensorboard as tb\n",
        "import numpy as np\n",
        "import os\n",
        "\n",
        "from PIL import Image\n",
        "\n",
        "from torch.utils.data import Dataset, DataLoader\n",
        "from torchvision import transforms\n",
        "\n",
        "import matplotlib.pyplot as plt\n",
        "import pandas as pd\n",
        "\n",
        "from torchvision.transforms import functional as TF\n",
        "\n",
        "import torchvision.models as models\n",
        "import torch.nn as nn\n",
        "#change model here\n",
        "resnet50 = models.vgg11(num_classes=4)\n",
        "\n",
        "LABEL_NAMES = {'covid':0, 'normal':1,'pneumonia_bac':2,'pneumonia_vir':3}\n",
        "\n",
        "LABEL_=['covid','normal','pneumonia_bac','pneumonia_vir']"
      ],
      "execution_count": null,
      "outputs": []
    },
    {
      "cell_type": "markdown",
      "metadata": {
        "id": "1dH1H9cSS4nc"
      },
      "source": [
        "## Reading Data"
      ]
    },
    {
      "cell_type": "code",
      "metadata": {
        "id": "dgGynEbDWdTs",
        "colab": {
          "base_uri": "https://localhost:8080/"
        },
        "outputId": "3faae0d6-10dc-455b-8f06-148e2e00b48b"
      },
      "source": [
        " from google.colab import drive\n",
        " drive.mount('/content/drive')\n",
        " baseDir = '/content/drive/My Drive/GEOG788T/'"
      ],
      "execution_count": null,
      "outputs": [
        {
          "output_type": "stream",
          "name": "stdout",
          "text": [
            "Mounted at /content/drive\n"
          ]
        }
      ]
    },
    {
      "cell_type": "code",
      "metadata": {
        "id": "hLZEGybplv1X"
      },
      "source": [
        "from PIL import Image\n",
        "def is_jpg(filename):\n",
        "    try:\n",
        "        i=Image.open(filename)\n",
        "        return True\n",
        "    except IOError:\n",
        "        return False"
      ],
      "execution_count": null,
      "outputs": []
    },
    {
      "cell_type": "code",
      "metadata": {
        "id": "jzGt5YbalvzK",
        "colab": {
          "base_uri": "https://localhost:8080/"
        },
        "outputId": "bc544c39-0bf2-4d17-87bc-f1b22ef4ceed"
      },
      "source": [
        "is_jpg('/content/drive/My Drive/GEOG788T/train/pneumonia_vir/person80_virus_150.jpeg')"
      ],
      "execution_count": null,
      "outputs": [
        {
          "output_type": "execute_result",
          "data": {
            "text/plain": [
              "True"
            ]
          },
          "metadata": {},
          "execution_count": 4
        }
      ]
    },
    {
      "cell_type": "markdown",
      "metadata": {
        "id": "WhbZVZdHS8E0"
      },
      "source": [
        "## Defining Torch Dataset"
      ]
    },
    {
      "cell_type": "code",
      "metadata": {
        "id": "LQ-OWrC8S-xK"
      },
      "source": [
        "gs = transforms.Grayscale(num_output_channels=3)\n",
        "class SuperTuxDataset(Dataset):\n",
        "    def __init__(self, image_path,data_transforms = transforms.ToTensor()):\n",
        "\n",
        "        self.image_path = image_path\n",
        "        if data_transforms==None:\n",
        "          self.data_transforms = transforms.ToTensor()\n",
        "        else:\n",
        "          self.data_transforms = data_transforms\n",
        "\n",
        "        img_list = []\n",
        "        files = os.listdir(image_path+'covid')\n",
        "        for file in files:\n",
        "          if is_jpg(image_path+'covid/'+file)==True:\n",
        "           img_list.append((file, 0))\n",
        "        files = os.listdir(image_path+'normal')\n",
        "        for file in files:\n",
        "          if is_jpg(image_path+'normal/'+file)==True:\n",
        "           img_list.append((file, 1))\n",
        "        files = os.listdir(image_path+'pneumonia_bac')\n",
        "        for file in files:\n",
        "          if is_jpg(image_path+'pneumonia_bac/'+file)==True:\n",
        "           img_list.append((file,2))\n",
        "        files = os.listdir(image_path+'pneumonia_vir')\n",
        "        for file in files:\n",
        "          if is_jpg(image_path+'pneumonia_vir/'+file)==True:\n",
        "           img_list.append((file,3))\n",
        "\n",
        "        self.img_list = img_list\n",
        "\n",
        "\n",
        "    def __len__(self):\n",
        "\n",
        "        return len(self.img_list)\n",
        "\n",
        "\n",
        "    def __getitem__(self, idx):\n",
        "\n",
        "        img_name, img_label = self.img_list[idx]\n",
        "\n",
        "        if img_label==0:\n",
        "          img_path = self.image_path + 'covid/'+ img_name\n",
        "        elif img_label==1:\n",
        "          img_path = self.image_path + 'normal/'+ img_name\n",
        "        elif img_label==2:\n",
        "          img_path = self.image_path + 'pneumonia_bac/'+ img_name\n",
        "        elif img_label==3:\n",
        "          img_path = self.image_path + 'pneumonia_vir/'+ img_name\n",
        "        img = Image.open(img_path)\n",
        "        img = img.resize((150, 150))\n",
        "        img = gs(img)\n",
        "\n",
        "\n",
        "        img = self.data_transforms(img)\n",
        "        img_dict={'image':img,'filename':img_name}\n",
        "\n",
        "\n",
        "\n",
        "        return (img_dict,img_label)\n",
        "\n",
        ""
      ],
      "execution_count": null,
      "outputs": []
    },
    {
      "cell_type": "code",
      "metadata": {
        "id": "-sQy331oA2sS"
      },
      "source": [
        "def visualize_data():\n",
        "\n",
        "    Path_to_your_data= '/content/drive/My Drive/GEOG788T/train/'\n",
        "    dataset = SuperTuxDataset(image_path=Path_to_your_data)\n",
        "\n",
        "    f, axes = plt.subplots(3, len(LABEL_NAMES))\n",
        "\n",
        "    counts = [0]*len(LABEL_NAMES)\n",
        "\n",
        "    for img_dict, label in dataset:\n",
        "        img=img_dict['image']\n",
        "        c = counts[label]\n",
        "        if c < 3:\n",
        "            ax = axes[c][label]\n",
        "            ax.imshow(img.permute(1, 2, 0).numpy())\n",
        "            ax.axis('off')\n",
        "            ax.set_title(LABEL_[label])\n",
        "            counts[label] += 1\n",
        "\n",
        "        if sum(counts) >= 3 * len(LABEL_NAMES):\n",
        "            break\n",
        "\n",
        "    plt.show()"
      ],
      "execution_count": null,
      "outputs": []
    },
    {
      "cell_type": "code",
      "metadata": {
        "id": "mR71RsKYv3om",
        "colab": {
          "base_uri": "https://localhost:8080/",
          "height": 264
        },
        "outputId": "5b80e249-551a-41ca-cbdd-d4df985b0017"
      },
      "source": [
        "visualize_data()"
      ],
      "execution_count": null,
      "outputs": [
        {
          "output_type": "display_data",
          "data": {
            "text/plain": [
              "<Figure size 432x288 with 12 Axes>"
            ],
            "image/png": "[encoded data removed]"
          },
          "metadata": {
            "needs_background": "light"
          }
        }
      ]
    },
    {
      "cell_type": "markdown",
      "metadata": {
        "id": "MHpXbN8XS_4F"
      },
      "source": [
        "## Defining Model Architecture and Loss"
      ]
    },
    {
      "cell_type": "code",
      "metadata": {
        "id": "5Bv64qQJTC1T"
      },
      "source": [
        "import torch.nn as nn\n",
        "import torch.nn.functional as F\n",
        "\n",
        "class ClassificationLoss(torch.nn.Module):\n",
        "    def forward(self, input, target):\n",
        "\n",
        "        #import torch.nn.functional as F\n",
        "        #loss=F.nll_loss(input,target)\n",
        "        #return loss\n",
        "        loss_f = nn.CrossEntropyLoss(reduction='mean')\n",
        "        loss = loss_f(input, target)\n",
        "\n",
        "        return loss"
      ],
      "execution_count": null,
      "outputs": []
    },
    {
      "cell_type": "code",
      "metadata": {
        "id": "iLxAX58TTC4E"
      },
      "source": [
        "from torch import save\n",
        "from torch import load\n",
        "from os import path\n",
        "import torch.optim as optim\n",
        "#change model here, change model file name\n",
        "def save_model(model, num):\n",
        "    return save(model.state_dict(), '/content/drive/My Drive/GEOG788T/two/'+'resnet50.th'+str(num))\n",
        "def load_model(num):\n",
        "    r = resnet50\n",
        "    #r=r.load_state_dict(load(path.join(path.dirname(path.abspath('/content/two')), 'resnet50.th'+str(num)), map_location='cpu'))\n",
        "    r.load_state_dict(torch.load('/content/drive/My Drive/GEOG788T/two/resnet50.th'+str(num)))\n"
      ],
      "execution_count": null,
      "outputs": []
    },
    {
      "cell_type": "code",
      "metadata": {
        "id": "dXFpCMW4SAx2"
      },
      "source": [
        "from torch import save\n",
        "from torch import load\n",
        "from os import path\n",
        "import torch.optim as optim\n",
        "#change model here, change model file name\n",
        "def save_model(model, num):\n",
        "    return save(model.state_dict(), path.join(path.dirname(path.abspath('/content/two')), 'resnet50.th'+str(num)))\n",
        "def load_model(num):\n",
        "  r=resnet50\n",
        "  r.load_state_dict(torch.load('/content/resnet50.th4'))"
      ],
      "execution_count": null,
      "outputs": []
    },
    {
      "cell_type": "markdown",
      "metadata": {
        "id": "9dS3-8gZee2Z"
      },
      "source": [
        "## Train"
      ]
    },
    {
      "cell_type": "code",
      "metadata": {
        "id": "rJe0vINAee1n"
      },
      "source": [
        "def accuracy(outputs, labels):\n",
        "    outputs_idx = outputs.max(1)[1].type_as(labels)\n",
        "    return outputs_idx.eq(labels).float().mean()\n",
        "\n",
        "def predict(model, inputs, device='cpu'):\n",
        "    inputs = inputs.to(device)\n",
        "    logits = model(inputs)\n",
        "    return F.softmax(logits, -1)\n",
        "def draw_bar(axis, preds, labels=None):\n",
        "    y_pos = np.arange(4)\n",
        "    axis.barh(y_pos, preds, align='center', alpha=0.5)\n",
        "    axis.set_xticks(np.linspace(0, 1, 10))\n",
        "\n",
        "    if labels:\n",
        "        axis.set_yticks(y_pos)\n",
        "        axis.set_yticklabels(labels)\n",
        "    else:\n",
        "        axis.get_yaxis().set_visible(False)\n",
        "\n",
        "    axis.get_xaxis().set_visible(False)\n",
        "\n",
        "def visualize_predictions():\n",
        "\n",
        "    model = load_model(37)\n",
        "    model.eval()\n",
        "\n",
        "    validation_image_path='/content/drive/My Drive/GEOG788T/test/' #enter the path\n",
        "\n",
        "    dataset = SuperTuxDataset(image_path=validation_image_path)\n",
        "\n",
        "    f, axes = plt.subplots(2, 6)\n",
        "\n",
        "    idxes = np.random.randint(0, len(dataset), size=6)\n",
        "\n",
        "    for i, idx in enumerate(idxes):\n",
        "        img_dict, label = dataset[idx]\n",
        "        img=img_dict['image']\n",
        "        labelstr=str(label)\n",
        "        img=img.resize(3,150,150)\n",
        "        preds = predict(model, img[None], device='cpu').detach().cpu().numpy()\n",
        "        img= img.to(torch.float32)\n",
        "\n",
        "        axes[0, i].imshow(torchvision.transforms.functional.to_pil_image(img))\n",
        "        axes[0, i].axis('off')\n",
        "        #plt.title(labelstr)\n",
        "        print(label)\n",
        "        draw_bar(axes[1, i], preds[0], LABEL_ if i == 0 else None)\n",
        "\n",
        "    plt.show()\n",
        "def cal_accuracy(model_num, dataset, all_labels):\n",
        "    model = load_model(model_num)\n",
        "    model.eval()\n",
        "    correct = 0\n",
        "    for i in range(len(dataset)):\n",
        "      img_dict, label = dataset[i]\n",
        "      img=img_dict['image']\n",
        "      preds = predict(model, img[None], device='cpu').detach().cpu().numpy()\n",
        "      l = np.argmax(preds)\n",
        "      print(i)\n",
        "      if all_labels[i] == l:\n",
        "        correct+=1\n",
        "      if i%5==0:\n",
        "        print('finished: {}/{}'.format(i, len(dataset)), correct/(i+1))\n",
        "    print('accuracy:', correct/len(dataset))\n",
        "    return correct/len(dataset)\n",
        "\n",
        "def learning_curve(num):\n",
        "    all_labels = []\n",
        "    image_path='/content/drive/My Drive/GEOG788T/train/'\n",
        "    files = os.listdir(image_path+'covid')\n",
        "    for file in files:\n",
        "     if is_jpg(image_path+'covid/'+file)==True:\n",
        "      all_labels.append(0)\n",
        "    files = os.listdir(image_path+'normal')\n",
        "    for file in files:\n",
        "     if is_jpg(image_path+'normal/'+file)==True:\n",
        "      all_labels.append(1)\n",
        "    files = os.listdir(image_path+'pneumonia_bac')\n",
        "    for file in files:\n",
        "     if is_jpg(image_path+'pneumonia_bac/'+file)==True:\n",
        "      all_labels.append(2)\n",
        "    files = os.listdir(image_path+'pneumonia_vir')\n",
        "    for file in files:\n",
        "     if is_jpg(image_path+'pneumonia_vir/'+file)==True:\n",
        "      all_labels.append(3)\n",
        "\n",
        "    dataset = SuperTuxDataset(image_path=image_path)\n",
        "    points = pd.DataFrame(columns=['epoch', 'Accuracy'])\n",
        "\n",
        "    for i in range(num):\n",
        "      accuracy = cal_accuracy(i, dataset, all_labels)\n",
        "      points=points.append({'epoch': i, 'Accuracy': accuracy}, ignore_index=True)\n",
        "    plt.plot('epoch', 'Accuracy', data=points, color='blue')\n",
        "    plt.xlabel('epochs')\n",
        "    plt.ylabel('Accuracy')\n",
        "\n",
        ""
      ],
      "execution_count": null,
      "outputs": []
    },
    {
      "cell_type": "code",
      "source": [
        "visualize_predictions()"
      ],
      "metadata": {
        "id": "W2F-r4eJbu2J"
      },
      "execution_count": null,
      "outputs": []
    },
    {
      "cell_type": "markdown",
      "metadata": {
        "id": "gZ065rGsTEgQ"
      },
      "source": [
        "## Training models\n",
        "\n"
      ]
    },
    {
      "cell_type": "code",
      "metadata": {
        "id": "UCYQG5ayOKQi"
      },
      "source": [
        "def load_data(dataset_path, data_transforms=None, num_workers=0, batch_size=1):\n",
        "    dataset = SuperTuxDataset(dataset_path,data_transforms)\n",
        "    return DataLoader(dataset, num_workers=num_workers, batch_size=batch_size, shuffle=True)"
      ],
      "execution_count": null,
      "outputs": []
    },
    {
      "cell_type": "code",
      "metadata": {
        "id": "wkuEqwd54lGt"
      },
      "source": [
        "class Args(object):\n",
        "  def __init__(self):\n",
        "    self.learning_rate = 0.001\n",
        "    self.epoch = 37\n",
        "    self.momentum = 0.9\n",
        "    self.log_dir = '/content/drive/My Drive/GEOG788T/log_dir2/'\n",
        "    self.train_datapath ='/content/drive/My Drive/GEOG788T/train/'\n",
        "    self.valid_datapath='/content/drive/My Drive/GEOG788T/test/'\n",
        "    self.log_interval = 10\n",
        "\n",
        "args = Args();\n"
      ],
      "execution_count": null,
      "outputs": []
    },
    {
      "cell_type": "code",
      "metadata": {
        "id": "2Oq2ouq0RUTL"
      },
      "source": [
        "def train(args):\n",
        "\n",
        "    #change model here\n",
        "    model = resnet50\n",
        "   # model.cuda()\n",
        "    model.train()\n",
        "\n",
        "\n",
        "    train_loader = load_data(args.train_datapath, transforms.ToTensor(), 0, 1)\n",
        "    test_loader=load_data(args.valid_datapath, transforms.ToTensor(), 0, 1)\n",
        "    optimizer = optim.SGD(model.parameters(),\n",
        "                          lr=args.learning_rate,\n",
        "                          momentum=args.momentum)\n",
        "    net_loss = ClassificationLoss()\n",
        "\n",
        "    train_losses = []\n",
        "    train_counter = []\n",
        "    test_losses = []\n",
        "    test_counter = [i*len(train_loader.dataset) for i in range(args.epoch + 1)]\n",
        "    num_steps_per_epoch = len([i for i in range(len(train_loader)) if i%args.log_interval==0])\n",
        "\n",
        "    stepper = 0\n",
        "\n",
        "    if args.log_dir is not None:\n",
        "        train_logger = tb.SummaryWriter(args.log_dir+ 'train')\n",
        "        valid_logger = tb.SummaryWriter(args.log_dir+ 'valid')\n",
        "    scheduler = optim.lr_scheduler.StepLR(optimizer, step_size=30, gamma=0.1)\n",
        "    for ep in range(args.epoch):\n",
        "\n",
        "      for batch_idx, (data_dict, target) in enumerate(train_loader):\n",
        "        optimizer.zero_grad()\n",
        "        data=data_dict['image']\n",
        "        output = model.forward(data)\n",
        "        loss = net_loss.forward(output, target)\n",
        "        loss.backward()\n",
        "        optimizer.step()\n",
        "        if batch_idx % args.log_interval == 0:\n",
        "          print('Train Epoch: {} [{}/{} ({:.0f}%)]\\tLoss: {:.6f}'.format(\n",
        "            ep, batch_idx * len(data), len(train_loader.dataset),\n",
        "            100. * batch_idx / len(train_loader), loss.item()))\n",
        "          train_losses.append(loss.item())\n",
        "\n",
        "          train_logger.add_scalar('Train loss',loss.item(),(ep-1)*num_steps_per_epoch + stepper)\n",
        "\n",
        "          train_counter.append(\n",
        "            (batch_idx*64) + ((args.epoch-1)*len(train_loader.dataset)))\n",
        "          torch.save(model.state_dict(), '/model.pth')\n",
        "          torch.save(optimizer.state_dict(), '/optimizer.pth')\n",
        "          stepper += 1\n",
        "      device='cuda'\n",
        "      train_accuracy=test(model,device,train_loader,ep)\n",
        "      valid_accuracy=test(model,device,test_loader,ep)\n",
        "      print('epoch:',ep,'train_acc:',train_accuracy,'valid_acc:',valid_accuracy)\n",
        "      train_logger.add_scalar('train/accuracy',train_accuracy, global_step=ep)\n",
        "      valid_logger.add_scalar('test/accuracy', valid_accuracy, global_step=ep)\n",
        "      save_model(model, ep)\n",
        "      scheduler.step()\n",
        "    return model\n",
        ""
      ],
      "execution_count": null,
      "outputs": []
    },
    {
      "cell_type": "code",
      "source": [
        "model=train(args)"
      ],
      "metadata": {
        "id": "aCuKgCfVb9HG"
      },
      "execution_count": null,
      "outputs": []
    },
    {
      "cell_type": "code",
      "metadata": {
        "id": "3WXQkdkePtTt"
      },
      "source": [
        "class LayerActivations():\n",
        "    features=[]\n",
        "    def __init__(self,model):\n",
        "        self.hooks = []\n",
        "        #model.layer4 is the last layer of our network before the Global Average Pooling layer(last convolutional layer).\n",
        "        self.hooks.append(model.layer4.register_forward_hook(self.hook_fn))\n",
        "    def hook_fn(self,module,input,output):\n",
        "        self.features.append(output)\n",
        "    def remove(self):\n",
        "        for hook in self.hooks:\n",
        "            hook.remove()"
      ],
      "execution_count": null,
      "outputs": []
    },
    {
      "cell_type": "code",
      "source": [
        "model_ft =resnet50\n",
        "acts = LayerActivations(model_ft)"
      ],
      "metadata": {
        "id": "IGC2R_qLcAAp"
      },
      "execution_count": null,
      "outputs": []
    },
    {
      "cell_type": "code",
      "metadata": {
        "id": "l-LHd2O3WDZ7"
      },
      "source": [
        "loader = transforms.Compose([transforms.Resize((150,150)), transforms.ToTensor()])\n",
        "def image_loader(image_name):\n",
        "    image = Image.open(image_name).convert(\"RGB\")\n",
        "    image = loader(image).float()\n",
        "    image = image.unsqueeze(0)\n",
        "    return image\n",
        "image_path = ''\n",
        "img = image_loader(image_path)\n",
        "logps =  model_ft(img)\n",
        "out_features = acts.features[0].squeeze(0)\n",
        "out_features = np.transpose(out_features.detach(),(1,2,0))"
      ],
      "execution_count": null,
      "outputs": []
    },
    {
      "cell_type": "code",
      "metadata": {
        "id": "soIvXE_CW2Qk"
      },
      "source": [
        "ps = torch.exp(logps)\n",
        "pred = np.argmax(ps.cpu().detach())\n",
        "W = model_ft.fc.weight\n",
        "w = W[pred,:]"
      ],
      "execution_count": null,
      "outputs": []
    },
    {
      "cell_type": "code",
      "metadata": {
        "id": "xs4ayPUAW-Y-"
      },
      "source": [
        "cam = np.dot(out_features.detach(),w.detach().cpu())\n",
        "class_activation = ndimg.zoom(cam, zoom=(32,32),order=1)\n",
        "img = np.squeeze(img, axis=0)\n",
        "img = np.transpose(img,(1,2,0))\n",
        "\n",
        "plt.imshow(img, cmap='jet',alpha=1)\n",
        "plt.imshow(class_activation,cmap='jet',alpha=0.5)"
      ],
      "execution_count": null,
      "outputs": []
    },
    {
      "cell_type": "code",
      "metadata": {
        "id": "4VlQTJ3dAuJ7"
      },
      "source": [
        "learning_curve(37)"
      ],
      "execution_count": null,
      "outputs": []
    },
    {
      "cell_type": "code",
      "metadata": {
        "id": "YpPeZp5ozsbC"
      },
      "source": [
        "def test(model,device,test1_loader,epoch):\n",
        "  model.eval()\n",
        "  test_loss=0\n",
        "  correct=0\n",
        "  column_names = [\"filename\", \"pred\"]\n",
        "  df = pd.DataFrame(columns = column_names)\n",
        "  with torch.no_grad():\n",
        "    for data_dict,target in test1_loader:\n",
        "      data=data_dict['image']\n",
        "      filename=data_dict['filename']\n",
        "      output=model(data)\n",
        "      test_loss +=F.cross_entropy(output,target,reduction='sum').item()#sum up batch loss\n",
        "      pred=output.argmax(dim=1,keepdim=True)#get the index of the max log-probability\n",
        "      correct += pred.eq(target.view_as(pred)).sum().item()\n",
        "      df = df.append({'filename' : filename , 'pred' : pred} , ignore_index=True)\n",
        "    df.to_pickle('/content/drive/My Drive/GEOG788T/'+'resnet_pred_'+str(epoch)+'.pkl')\n",
        "\n",
        "\n",
        "  test_loss /=len(test1_loader.dataset)\n",
        "\n",
        "  print('\\nTest set: Average Loss:{:.4f}, Accuracy: {}/{}({:.0f}%)\\n)'.format(\n",
        "    test_loss,correct,len(test1_loader.dataset),100.*correct/len(test1_loader.dataset)))\n",
        "  return correct/len(test1_loader.dataset)"
      ],
      "execution_count": null,
      "outputs": []
    },
    {
      "cell_type": "code",
      "metadata": {
        "id": "myBoIoN45agO",
        "colab": {
          "base_uri": "https://localhost:8080/",
          "height": 35
        },
        "outputId": "8ae0bafb-bf58-4a00-f19a-fbebd41223e8"
      },
      "source": [
        "'/content/all/'+'pred_'+str(1)+'.xlsx'"
      ],
      "execution_count": null,
      "outputs": [
        {
          "output_type": "execute_result",
          "data": {
            "text/plain": [
              "'/content/all/pred_1.xlsx'"
            ],
            "application/vnd.google.colaboratory.intrinsic+json": {
              "type": "string"
            }
          },
          "metadata": {},
          "execution_count": 21
        }
      ]
    },
    {
      "cell_type": "code",
      "metadata": {
        "id": "GOJHEBHb0NGH"
      },
      "source": [
        "%load_ext tensorboard"
      ],
      "execution_count": null,
      "outputs": []
    },
    {
      "cell_type": "code",
      "metadata": {
        "id": "F37Ttm9Y0P0d"
      },
      "source": [
        "%reload_ext tensorboard\n",
        "\n",
        "device = torch.device(\"cuda:0\" if torch.cuda.is_available() else \"cpu\")\n",
        "\n",
        "from torch.utils.tensorboard import SummaryWriter\n",
        "\n",
        "import datetime\n",
        "#logdir = \"logs/scalars/\" + datetime.date.today().strftime(\"%Y%m%d-%H%M%S\")\n",
        "logdir='/content/drive/My Drive/GEOG788T/log_dir2'\n",
        "ROOT_LOG_DIR = './logdir'"
      ],
      "execution_count": null,
      "outputs": []
    },
    {
      "cell_type": "code",
      "metadata": {
        "id": "iR9L4vw60R_U"
      },
      "source": [
        "!rm -rf '/content/drive/My Drive/GEOG788T/log_dir2/train'\n",
        "\n",
        "!rm -rf '/content/drive/My Drive/GEOG788T/log_dir2/valid'"
      ],
      "execution_count": null,
      "outputs": []
    }
  ]
}