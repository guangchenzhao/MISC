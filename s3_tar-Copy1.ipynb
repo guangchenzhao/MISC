{
 "cells": [
  {
   "cell_type": "code",
   "execution_count": 1,
   "metadata": {},
   "outputs": [
    {
     "name": "stdout",
     "output_type": "stream",
     "text": [
      "Collecting s3-tar\n",
      "  Downloading https://files.pythonhosted.org/packages/57/d0/6bd59a26c447f14b01d51501c1557c7e86c58f07122951d8db49adb9c864/s3-tar-0.1.13.tar.gz\n",
      "Requirement already satisfied: boto3 in d:\\app\\anaconda\\lib\\site-packages (from s3-tar) (1.21.45)\n",
      "Requirement already satisfied: s3transfer<0.6.0,>=0.5.0 in d:\\app\\anaconda\\lib\\site-packages (from boto3->s3-tar) (0.5.2)\n",
      "Requirement already satisfied: botocore<1.25.0,>=1.24.45 in d:\\app\\anaconda\\lib\\site-packages (from boto3->s3-tar) (1.24.45)\n",
      "Requirement already satisfied: jmespath<2.0.0,>=0.7.1 in d:\\app\\anaconda\\lib\\site-packages (from boto3->s3-tar) (1.0.0)\n",
      "Requirement already satisfied: python-dateutil<3.0.0,>=2.1 in d:\\app\\anaconda\\lib\\site-packages (from botocore<1.25.0,>=1.24.45->boto3->s3-tar) (2.8.0)\n",
      "Requirement already satisfied: urllib3<1.27,>=1.25.4 in d:\\app\\anaconda\\lib\\site-packages (from botocore<1.25.0,>=1.24.45->boto3->s3-tar) (1.26.9)\n",
      "Requirement already satisfied: six>=1.5 in d:\\app\\anaconda\\lib\\site-packages (from python-dateutil<3.0.0,>=2.1->botocore<1.25.0,>=1.24.45->boto3->s3-tar) (1.12.0)\n",
      "Building wheels for collected packages: s3-tar\n",
      "  Building wheel for s3-tar (setup.py): started\n",
      "  Building wheel for s3-tar (setup.py): finished with status 'done'\n",
      "  Created wheel for s3-tar: filename=s3_tar-0.1.13-cp37-none-any.whl size=11413 sha256=f11d8b060e384db19d80b97ddd5f47180755bcb612fd33aa02ad18ebb047ee01\n",
      "  Stored in directory: C:\\Users\\gczhao\\AppData\\Local\\pip\\Cache\\wheels\\0b\\8e\\35\\b438b60663cdccc340de21cb93d4624adcb2d0a6504f8da806\n",
      "Successfully built s3-tar\n",
      "Installing collected packages: s3-tar\n",
      "Successfully installed s3-tar-0.1.13\n",
      "Note: you may need to restart the kernel to use updated packages.\n"
     ]
    }
   ],
   "source": [
    "pip install s3-tar"
   ]
  },
  {
   "cell_type": "code",
   "execution_count": 22,
   "metadata": {},
   "outputs": [
    {
     "name": "stdout",
     "output_type": "stream",
     "text": [
      "For folder mti-nextgen-temp/TruckODAggregation/2020/ATRI: 193.11 seconds\n"
     ]
    }
   ],
   "source": [
    "from s3_tar import S3Tar\n",
    "import boto3\n",
    "import time\n",
    "\n",
    "start_time = time.time()\n",
    "\n",
    "bucket_name = 'mti-nextgen-temp'\n",
    "folder_name = 'TruckODAggregation/2020/ATRI'\n",
    "# Init the job\n",
    "job = S3Tar(\n",
    "    '%s' % bucket_name,\n",
    "    '%s.tar.gz' % folder_name,  # Use `tar.gz` or `tar.bz2` to enable compression\n",
    "    target_bucket='mti-nextgen-temp-archive',  # Default: source bucket. Can be used to save the archive into a different bucket\n",
    "    # min_file_size='50MB',  # Default: None. The min size to make each tar file [B,KB,MB,GB,TB]. If set, a number will be added to each file name\n",
    "    # save_metadata=False,  # If True, and the file has metadata, save a file with the same name using the suffix of `.metadata.json`\n",
    "    # remove_keys=False,  # If True, will delete s3 files after the tar is created\n",
    "  \n",
    "    # ADVANCED USAGE\n",
    "    # allow_dups=False,  # When False, will raise ValueError if a file will overwrite another in the tar file, set to True to ignore\n",
    "    # cache_size=5,  # Default 5. Number of files to hold in memory to be processed\n",
    "    # s3_max_retries=4,  # Default is 4. This value is passed into boto3.client's s3 botocore config as the `max_attempts`\n",
    "    # part_size_multiplier=10,  # is multiplied by 5 MB to find how large each part that gets upload should be\n",
    "    session = boto3.Session(\n",
    "    aws_access_key_id = '',\n",
    "    aws_secret_access_key = ''),  # For custom aws session\n",
    ")\n",
    "# Add files, can call multiple times to add files from other directories\n",
    "\n",
    "job.add_files(\n",
    "    '%s/' % folder_name,\n",
    "    # folder='OD_daily_trip_count_sum_county',  # If a folder is set, then all files from this directory will be added into that folder in the tar file\n",
    "     preserve_paths=True,  # If True, it will use the dir paths relative to the input path inside the tar file\n",
    ")\n",
    "#job.add_files(\n",
    "#    'TruckODAggregation/2020/truck/OD_daily_trip_count_sum/',\n",
    "#     folder='OD_daily_trip_count_sum',  # If a folder is set, then all files from this directory will be added into that folder in the tar file\n",
    "#    # preserve_paths=False,  # If True, it will use the dir paths relative to the input path inside the tar file\n",
    "#)\n",
    "# Add a single file at a time\n",
    "#job.add_file(\n",
    "#    'some/file_key.json',\n",
    "#    # folder='',  # If a folder is set, then the file will be added into that folder in the tar file\n",
    "#)\n",
    "# Start the tar'ing job after files have been added\n",
    "job.tar()\n",
    "\n",
    "print('For folder %s/%s: %s seconds' % (bucket_name, folder_name, round((time.time()-start_time), 2)))"
   ]
  },
  {
   "cell_type": "markdown",
   "metadata": {},
   "source": [
    "#### For folder mti-nextgen-temp/TruckODAggregation/2020/OD_daily_trip_count_sum: 5.32 seconds\n",
    "#### For folder mti-nextgen-temp/TruckODAggregation/2020/ATRI/Original_trip_roster/trip_roster_0309: 8.57 seconds\n",
    "#### For folder mti-nextgen-temp/TruckODAggregation/2020/ATRI/Original_trip_roster/trip_roster_0310: 8.96 seconds\n",
    "#### For folder mti-nextgen-temp/TruckODAggregation/2020/ATRI: 191.24 seconds\n",
    "#### For folder mti-nextgen-temp/TruckODAggregation/2020/truck: 10.11 seconds\n",
    "#### For folder mti-nextgen-temp/TruckODAggregation/2020/INRIX: 2096.56 seconds"
   ]
  },
  {
   "cell_type": "code",
   "execution_count": null,
   "metadata": {},
   "outputs": [],
   "source": []
  }
 ],
 "metadata": {
  "celltoolbar": "Slideshow",
  "kernelspec": {
   "display_name": "Python 3",
   "language": "python",
   "name": "python3"
  },
  "language_info": {
   "codemirror_mode": {
    "name": "ipython",
    "version": 3
   },
   "file_extension": ".py",
   "mimetype": "text/x-python",
   "name": "python",
   "nbconvert_exporter": "python",
   "pygments_lexer": "ipython3",
   "version": "3.7.4"
  }
 },
 "nbformat": 4,
 "nbformat_minor": 2
}
